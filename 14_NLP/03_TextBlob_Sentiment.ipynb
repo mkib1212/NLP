{
 "cells": [
  {
   "attachments": {},
   "cell_type": "markdown",
   "metadata": {},
   "source": [
    "# Sentiment Analysis with TextBlob\n",
    "\n",
    "- Polarity(-1, +1) : -1(negative) +1(positive)\n",
    "- Subjectivity (0,1) : 0(facts: objective) , 1 (opinion: subjective)\n"
   ]
  },
  {
   "cell_type": "code",
   "execution_count": 1,
   "metadata": {},
   "outputs": [],
   "source": [
    "from textblob import TextBlob"
   ]
  },
  {
   "cell_type": "code",
   "execution_count": 2,
   "metadata": {},
   "outputs": [
    {
     "name": "stdout",
     "output_type": "stream",
     "text": [
      "Sentiment(polarity=-1.0, subjectivity=1.0)\n",
      "Sentiment(polarity=1.0, subjectivity=0.3)\n",
      "Sentiment(polarity=0.5, subjectivity=0.5)\n"
     ]
    }
   ],
   "source": [
    "review_1 = \"The song is awful.\"\n",
    "review_2 = \"The song was the best.\"\n",
    "review_3 = \"The song was okay.\"\n",
    "\n",
    "blob1 = TextBlob(review_1)\n",
    "blob2 = TextBlob(review_2)\n",
    "blob3 = TextBlob(review_3)\n",
    "\n",
    "# Calculate the sentiment\n",
    "print(blob1.sentiment)\n",
    "print(blob2.sentiment)\n",
    "print(blob3.sentiment)"
   ]
  },
  {
   "cell_type": "code",
   "execution_count": 5,
   "metadata": {},
   "outputs": [
    {
     "name": "stdout",
     "output_type": "stream",
     "text": [
      "The song was not bad. -> 0.3499999999999999\n",
      "The aqustic effects were good. -> 0.7\n",
      "The musician was not bad -> 0.3499999999999999\n"
     ]
    }
   ],
   "source": [
    "review_4 = \"The song was not bad. The aqustic effects were good. The musician was not bad\"\n",
    "\n",
    "blob4= TextBlob(review_4)\n",
    "\n",
    "for sentence in blob4.sentences:\n",
    "    print(sentence , \"->\", sentence.sentiment.polarity)"
   ]
  }
 ],
 "metadata": {
  "kernelspec": {
   "display_name": "Python 3",
   "language": "python",
   "name": "python3"
  },
  "language_info": {
   "codemirror_mode": {
    "name": "ipython",
    "version": 3
   },
   "file_extension": ".py",
   "mimetype": "text/x-python",
   "name": "python",
   "nbconvert_exporter": "python",
   "pygments_lexer": "ipython3",
   "version": "3.10.8"
  },
  "orig_nbformat": 4
 },
 "nbformat": 4,
 "nbformat_minor": 2
}
