{
 "cells": [
  {
   "attachments": {},
   "cell_type": "markdown",
   "metadata": {},
   "source": [
    "# TextBlob (based on NLTK)\n",
    "\n",
    "> pip install nltk\n",
    "> \n",
    "> pip install textblob"
   ]
  },
  {
   "cell_type": "code",
   "execution_count": 1,
   "metadata": {},
   "outputs": [],
   "source": [
    "from textblob import TextBlob\n"
   ]
  },
  {
   "attachments": {},
   "cell_type": "markdown",
   "metadata": {},
   "source": [
    "# Create a TextBlob"
   ]
  },
  {
   "cell_type": "code",
   "execution_count": 11,
   "metadata": {},
   "outputs": [
    {
     "name": "stdout",
     "output_type": "stream",
     "text": [
      "Today is a sunny day! The best kind of day is a sunny day. I also hope tomorrow is a sunny day! This is great, this is good\n"
     ]
    }
   ],
   "source": [
    "text = \"Today is a sunny day! The best kind of day is a sunny day. I also hope tomorrow is a sunny day! This is great, this is good\"\n",
    "\n",
    "# create a blob from string\n",
    "blob = TextBlob(text)\n",
    "\n",
    "print(blob)"
   ]
  },
  {
   "cell_type": "code",
   "execution_count": 12,
   "metadata": {},
   "outputs": [
    {
     "name": "stdout",
     "output_type": "stream",
     "text": [
      "['Today', 'is', 'a', 'sunny', 'day', 'The', 'best', 'kind', 'of', 'day', 'is', 'a', 'sunny', 'day', 'I', 'also', 'hope', 'tomorrow', 'is', 'a', 'sunny', 'day', 'This', 'is', 'great', 'this', 'is', 'good']\n",
      "False\n",
      "True\n"
     ]
    }
   ],
   "source": [
    "# Show the words without punctuations\n",
    "print(blob.words)\n",
    "\n",
    "# Check if a word in blob\n",
    "print(\"hot\" in blob) # False\n",
    "print(\"day\" in blob) # True"
   ]
  },
  {
   "attachments": {},
   "cell_type": "markdown",
   "metadata": {},
   "source": [
    "# Word count"
   ]
  },
  {
   "cell_type": "code",
   "execution_count": 13,
   "metadata": {},
   "outputs": [
    {
     "name": "stdout",
     "output_type": "stream",
     "text": [
      "defaultdict(<class 'int'>,\n",
      "            {'a': 3,\n",
      "             'also': 1,\n",
      "             'best': 1,\n",
      "             'day': 4,\n",
      "             'good': 1,\n",
      "             'great': 1,\n",
      "             'hope': 1,\n",
      "             'i': 1,\n",
      "             'is': 5,\n",
      "             'kind': 1,\n",
      "             'of': 1,\n",
      "             'sunny': 3,\n",
      "             'the': 1,\n",
      "             'this': 2,\n",
      "             'today': 1,\n",
      "             'tomorrow': 1})\n"
     ]
    }
   ],
   "source": [
    "from pprint import pprint \n",
    "pprint(blob.word_counts)"
   ]
  },
  {
   "attachments": {},
   "cell_type": "markdown",
   "metadata": {},
   "source": [
    "# Sentence Count"
   ]
  },
  {
   "cell_type": "code",
   "execution_count": 14,
   "metadata": {},
   "outputs": [
    {
     "name": "stdout",
     "output_type": "stream",
     "text": [
      "[Sentence(\"Today is a sunny day!\"),\n",
      " Sentence(\"The best kind of day is a sunny day.\"),\n",
      " Sentence(\"I also hope tomorrow is a sunny day!\"),\n",
      " Sentence(\"This is great, this is good\")]\n"
     ]
    }
   ],
   "source": [
    "pprint(blob.sentences)"
   ]
  },
  {
   "attachments": {},
   "cell_type": "markdown",
   "metadata": {},
   "source": [
    "# Phrase count"
   ]
  },
  {
   "cell_type": "code",
   "execution_count": 16,
   "metadata": {},
   "outputs": [
    {
     "name": "stdout",
     "output_type": "stream",
     "text": [
      "['sunny day', 'sunny day', 'sunny day']\n",
      "3\n"
     ]
    }
   ],
   "source": [
    "print(blob.noun_phrases)\n",
    "\n",
    "print(blob.noun_phrases.count(\"sunny day\"))"
   ]
  }
 ],
 "metadata": {
  "kernelspec": {
   "display_name": "Python 3",
   "language": "python",
   "name": "python3"
  },
  "language_info": {
   "codemirror_mode": {
    "name": "ipython",
    "version": 3
   },
   "file_extension": ".py",
   "mimetype": "text/x-python",
   "name": "python",
   "nbconvert_exporter": "python",
   "pygments_lexer": "ipython3",
   "version": "3.10.8"
  },
  "orig_nbformat": 4
 },
 "nbformat": 4,
 "nbformat_minor": 2
}
